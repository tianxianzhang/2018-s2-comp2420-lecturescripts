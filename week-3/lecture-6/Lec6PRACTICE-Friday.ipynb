{
 "cells": [
  {
   "cell_type": "markdown",
   "metadata": {},
   "source": [
    " <h1 align='center'> COMP2420/COMP6420 - Introduction to Data Management, Analysis and Security</h1>\n",
    "\n",
    "<h2 align='center'>Lecture 6 - Practice Examples</h2>"
   ]
  },
  {
   "cell_type": "code",
   "execution_count": null,
   "metadata": {},
   "outputs": [],
   "source": [
    "# Author in R - Jin \n",
    "# Date - 13 Mar 2019\n",
    "# Python Conversion - Alex"
   ]
  },
  {
   "cell_type": "code",
   "execution_count": null,
   "metadata": {},
   "outputs": [],
   "source": [
    "import pandas as pd\n",
    "import numpy as np\n",
    "import statistics as stats\n",
    "from scipy import stats as spystats\n",
    "import matplotlib as plt\n",
    "%matplotlib inline"
   ]
  },
  {
   "cell_type": "markdown",
   "metadata": {},
   "source": [
    "# Practice Questions"
   ]
  },
  {
   "cell_type": "markdown",
   "metadata": {},
   "source": [
    "## Practice 1: Muffled Maydow"
   ]
  },
  {
   "cell_type": "markdown",
   "metadata": {},
   "source": [
    "As a large amount of stock traders work in New York City, it may be true that unreasonably good or bad weather there affects the performance of the stock market. The dataset **'maydow'** contains data for the Dow Jones Industrial Average (DJIA) and maximum temperatures in Central Park for May 2003."
   ]
  },
  {
   "cell_type": "code",
   "execution_count": null,
   "metadata": {},
   "outputs": [],
   "source": [
    "maydow_data = pd.read_csv('data/maydow.csv', index_col=0)\n",
    "maydow_data.head()"
   ]
  },
  {
   "cell_type": "markdown",
   "metadata": {},
   "source": [
    "Your task is as follows:\n",
    "\n",
    "    - Make a scatterplot of the two variables (DJA and maximum temperature) and find the correlation\n",
    "    - Calculate R-square using Correlation\n",
    "    - Is there any relationship between DJA and temperature?"
   ]
  },
  {
   "cell_type": "code",
   "execution_count": null,
   "metadata": {},
   "outputs": [],
   "source": [
    "# Your answer here\n",
    "\n",
    "\n",
    "###############\n",
    "# ANSWERS\n",
    "\n",
    "# Scatterplot\n",
    "plt.pyplot.scatter(maydow_data['DJA'], maydow_data['max.temp'])\n",
    "plt.pyplot.xlabel(\"DJA\")\n",
    "plt.pyplot.ylabel(\"max.temp\")\n",
    "plt.pyplot.title(\"Potential Correlation between DJA and Max Temp\")\n",
    "plt.pyplot.show()\n",
    "\n",
    "# Calculate R-square\n",
    "# Calculate Correlation, then square\n",
    "corrcoef = np.corrcoef(maydow_data['DJA'], maydow_data['max.temp'])\n",
    "DMP_correlation = corrcoef[0][1]\n",
    "rsq = DMP_correlation * DMP_correlation\n",
    "print(\"R Square: \", rsq)"
   ]
  },
  {
   "cell_type": "markdown",
   "metadata": {},
   "source": [
    "## Practice 2: Baffling Batting"
   ]
  },
  {
   "cell_type": "markdown",
   "metadata": {},
   "source": [
    "The dataset **batting** contains baseball statistics for the 2002 major league baseball season. It is shown in the import below:"
   ]
  },
  {
   "cell_type": "code",
   "execution_count": null,
   "metadata": {},
   "outputs": [],
   "source": [
    "batting_data = pd.read_csv('data/Batting.csv', header=None)\n",
    "batting_data.columns = ['playerID', 'year', 'stint', 'teamID', 'lgID', 'Games', 'All Bats', 'Runs', 'Hits', 'Doubles', 'Triples', 'Homeruns', 'Runs Batted In', 'Stolen Bases', 'Caught Stealing', 'Base on Balls', 'Strikeouts', 'Intentional Walks', 'Hit by Pitch', 'Sacrifice Hits', 'Sacrifice Flies', 'Grounded into Double Plays']\n",
    "batting_data.head()"
   ]
  },
  {
   "cell_type": "markdown",
   "metadata": {},
   "source": [
    "Your task is as follows:\n",
    "\n",
    "    - What is the correlation between the number of strikeouts ('Strikeouts') and number of home runs ('Homeruns')?\n",
    "    - Does the data suggest that in order to hit a lot of home runs one should strike out a lot?\n",
    "    - Make a scatterplot to visually assess the trend."
   ]
  },
  {
   "cell_type": "code",
   "execution_count": null,
   "metadata": {},
   "outputs": [],
   "source": [
    "# Your Answer Here\n",
    "\n",
    "########\n",
    "# ANSWERS\n",
    "\n",
    "#Correlation - Through use of Correlation Matrix\n",
    "# np.corrcoef() will return a 2D matrix showing x-x, x-y, y-x, y-y. Closer to 1 indicates positive correlation, closer to -1 indicates negative correlation, 0 indicates no correlation\n",
    "corrcoef = np.corrcoef(batting_data['Strikeouts'], batting_data['Homeruns'])\n",
    "print(\"Correlations: \")\n",
    "print(\"X -> Y :: \", corrcoef[0][1])\n",
    "print(\"Y -> X :: \", corrcoef[1][0])\n",
    "\n",
    "print(\"\")\n",
    "\n",
    "# Scatterplot\n",
    "plt.pyplot.scatter(batting_data['Strikeouts'], batting_data['Homeruns'], s=2)\n",
    "plt.pyplot.xlabel(\"Strikeouts\")\n",
    "plt.pyplot.ylabel(\"Home runs\")\n",
    "plt.pyplot.title(\"Potential Correlation between Strikeouts and Homeruns\")\n",
    "plt.pyplot.show()"
   ]
  },
  {
   "cell_type": "markdown",
   "metadata": {},
   "source": [
    "## Practice 3: Willful Weightloss"
   ]
  },
  {
   "cell_type": "markdown",
   "metadata": {},
   "source": [
    "The dataset **wtloss** contains measurements of a patient's weight in kilograms during a weight-rehabilitation program. The import is shown below:"
   ]
  },
  {
   "cell_type": "code",
   "execution_count": null,
   "metadata": {},
   "outputs": [],
   "source": [
    "weightloss_data = pd.read_csv('data/wtloss.csv', index_col=0)\n",
    "weightloss_data.head()"
   ]
  },
  {
   "cell_type": "markdown",
   "metadata": {},
   "source": [
    "Your task is as follows:\n",
    "    \n",
    "    - Make a scatterplot showing how the variable Weight decays as a function of Days.\n",
    "    - What is the correlation of the two variables?\n",
    "    - Does the data appear appropiate for a regression model?"
   ]
  },
  {
   "cell_type": "code",
   "execution_count": null,
   "metadata": {},
   "outputs": [],
   "source": [
    "# Your Answer Here\n",
    "\n",
    "########\n",
    "# ANSWERS\n",
    "\n",
    "#Correlation - Through use of Correlation Matrix\n",
    "# np.corrcoef() will return a 2D matrix showing x-x, x-y, y-x, y-y. Closer to 1 indicates positive correlation, closer to -1 indicates negative correlation, 0 indicates no correlation\n",
    "corrcoef = np.corrcoef(weightloss_data['Days'], weightloss_data['Weight'])\n",
    "print(\"Correlations: \")\n",
    "print(\"X -> Y :: \", corrcoef[0][1])\n",
    "print(\"Y -> X :: \", corrcoef[1][0])\n",
    "# HIGH NEGATIVE CORRELATION\n",
    "\n",
    "# Scatterplot\n",
    "plt.pyplot.scatter(weightloss_data['Days'], weightloss_data['Weight'], s=2)\n",
    "plt.pyplot.xlabel(\"Days\")\n",
    "plt.pyplot.ylabel(\"Weight\")\n",
    "plt.pyplot.title(\"Days vs Weight\")\n",
    "plt.pyplot.show()"
   ]
  },
  {
   "cell_type": "markdown",
   "metadata": {},
   "source": [
    "## Practice 4: Grand Galton"
   ]
  },
  {
   "cell_type": "markdown",
   "metadata": {},
   "source": [
    "The **galton** dataset contains data collected by Francis Galton in 1885. Each data point contains a child's height and an average of his or her parents' heights."
   ]
  },
  {
   "cell_type": "code",
   "execution_count": null,
   "metadata": {},
   "outputs": [],
   "source": [
    "galton_data = pd.read_csv('data/galton.csv', index_col=0)\n",
    "galton_data.head()"
   ]
  },
  {
   "cell_type": "markdown",
   "metadata": {},
   "source": [
    "Your task is as follows:\n",
    "    \n",
    "    - Do a T-test to see if there is a difference in the mean height. (Assume the paired T-test is appropiate)\n",
    "    - What problem is there with the above assumption?"
   ]
  },
  {
   "cell_type": "code",
   "execution_count": null,
   "metadata": {},
   "outputs": [],
   "source": [
    "# Your answer here\n",
    "\n",
    "######\n",
    "# Answers\n",
    "\n",
    "#Un-Paired\n",
    "t_unpair = spystats.ttest_ind(galton_data['parent'], galton_data['child'])\n",
    "print(\"Unpaired Test Results: \", t_unpair)\n",
    "\n",
    "# Paired\n",
    "t_paired = spystats.ttest_rel(galton_data['parent'], galton_data['child'])\n",
    "print(\"Paired Test Results: \", t_paired)"
   ]
  },
  {
   "cell_type": "markdown",
   "metadata": {},
   "source": [
    "## Practice 5: Coloured Candies"
   ]
  },
  {
   "cell_type": "markdown",
   "metadata": {},
   "source": [
    "A large bag of M&Ms candies is filled from batches that contain a specified percentage of each of six colors. These percentages are given in the **'mandms'** dataset."
   ]
  },
  {
   "cell_type": "code",
   "execution_count": null,
   "metadata": {},
   "outputs": [],
   "source": [
    "eminems = pd.read_csv('data/mandms.csv')\n",
    "eminems.columns = ['Type', 'Blue', 'Brown', 'Green', 'Orange', 'Red', 'Yellow']\n",
    "eminems.head()"
   ]
  },
  {
   "cell_type": "markdown",
   "metadata": {},
   "source": [
    " Assume a package of candies contains the following color distribution: 15 blue, 34 brown, 7 green, 19 orange, 29 red, and 24 yellow.\n",
    " \n",
    "Your task is as follows:\n",
    "\n",
    "    - Perform a chi-squared test with the null hypothesis that the candies are from a milk chocolate package. \n",
    "    - Repeat assuming the candies are from a Peanut package.\n",
    "    - Based on the p-values, which would you suspect is the true source of the candies?\n",
    " \n"
   ]
  },
  {
   "cell_type": "code",
   "execution_count": null,
   "metadata": {},
   "outputs": [],
   "source": [
    "Expected_outputs = [15,34,7,19,29,24]\n",
    "# Your Answer Here\n",
    "\n",
    "#######\n",
    "# Answers\n",
    "\n",
    "# Milk Chocolate Chi-Squared - null hypothesis\n",
    "mlkchoc = eminems.iloc[0][1:]\n",
    "chi_result = spystats.chisquare(mlkchoc, Expected_outputs)\n",
    "print(\"Milk Chocolate: \", chi_result)\n",
    "\n",
    "# Peanut - null hypothesis\n",
    "peanut = eminems.iloc[1][1:]\n",
    "chip_result = spystats.chisquare(peanut, Expected_outputs)\n",
    "print(\"Peanut: \", chip_result)"
   ]
  }
 ],
 "metadata": {
  "kernelspec": {
   "display_name": "Python 3",
   "language": "python",
   "name": "python3"
  },
  "language_info": {
   "codemirror_mode": {
    "name": "ipython",
    "version": 3
   },
   "file_extension": ".py",
   "mimetype": "text/x-python",
   "name": "python",
   "nbconvert_exporter": "python",
   "pygments_lexer": "ipython3",
   "version": "3.7.2"
  }
 },
 "nbformat": 4,
 "nbformat_minor": 2
}
