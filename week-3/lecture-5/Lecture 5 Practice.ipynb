{
 "cells": [
  {
   "cell_type": "markdown",
   "metadata": {},
   "source": [
    " <h1 align='center'> COMP2420/COMP6420 - Introduction to Data Management, Analysis and Security</h1>\n",
    "\n",
    "<h2 align='center'>Lecture 5 - Practice Examples</h2>"
   ]
  },
  {
   "cell_type": "code",
   "execution_count": null,
   "metadata": {},
   "outputs": [],
   "source": [
    "# Author in R - Jin \n",
    "# Date - 10 Mar 2019\n",
    "# Python Conversion - Alex"
   ]
  },
  {
   "cell_type": "code",
   "execution_count": null,
   "metadata": {},
   "outputs": [],
   "source": [
    "import pandas as pd\n",
    "import numpy as np\n",
    "import statistics as stats\n",
    "from scipy import stats as spystats\n",
    "import matplotlib as plt\n",
    "%matplotlib inline"
   ]
  },
  {
   "cell_type": "markdown",
   "metadata": {},
   "source": [
    "# Practice Questions"
   ]
  },
  {
   "cell_type": "markdown",
   "metadata": {},
   "source": [
    "## Practice 1: Running Rivers"
   ]
  },
  {
   "cell_type": "markdown",
   "metadata": {},
   "source": [
    "The Dataset **rivers** contains the length (in miles) of 141 major rivers in North America. The data is imported below:"
   ]
  },
  {
   "cell_type": "code",
   "execution_count": null,
   "metadata": {},
   "outputs": [],
   "source": [
    "rivers_data = pd.read_csv(\"data/rivers.csv\", index_col=0)\n",
    "rivers_data.columns = [\"Length\"]\n",
    "rivers_data.head()"
   ]
  },
  {
   "cell_type": "markdown",
   "metadata": {},
   "source": [
    "Your task is as follows:\n",
    "\n",
    "    - Compare the mean, median and mode of the length of the rivers. Is there a big difference between the three?\n",
    "    - What are the 25th, 50th & 75th quantiles of the length of the rivers?\n",
    "    - What proportion are less than the mean length of the rivers?"
   ]
  },
  {
   "cell_type": "code",
   "execution_count": null,
   "metadata": {},
   "outputs": [],
   "source": [
    "# Answers here\n",
    "\n",
    "\n",
    "########### ANSWERS\n",
    "river_lengths = rivers_data['Length']\n",
    "\n",
    "# Mean, Median, Mode\n",
    "print(\"Mean Length: \", np.mean(river_lengths))\n",
    "print(\"Median Length: \", np.median(river_lengths))\n",
    "print(\"Mode Length: \", spystats.mode(river_lengths)[0])\n",
    "\n",
    "#Quantiles\n",
    "print(\"Quantiles [25%,50%, 75%]: \", np.quantile(river_lengths, [0.25,0.5,0.75]))\n",
    "\n",
    "# Proportion less than mean length\n",
    "counter = 0\n",
    "river_mean = np.mean(river_lengths)\n",
    "\n",
    "for x in river_lengths:\n",
    "    if x < river_mean:\n",
    "        counter += 1\n",
    "\n",
    "print(\"Total less than mean: \", counter)\n",
    "print(\"Proportion: \", counter/len(river_lengths))"
   ]
  },
  {
   "cell_type": "markdown",
   "metadata": {},
   "source": [
    "## Practice 2: Math"
   ]
  },
  {
   "cell_type": "markdown",
   "metadata": {},
   "source": [
    "The dataset **Maths** contains a single column of numbers for you to work upon"
   ]
  },
  {
   "cell_type": "code",
   "execution_count": null,
   "metadata": {},
   "outputs": [],
   "source": [
    "maths_data = pd.read_csv(\"data/math.csv\", index_col=0)\n",
    "maths_data.head()"
   ]
  },
  {
   "cell_type": "markdown",
   "metadata": {},
   "source": [
    "Your task is as follows:\n",
    "\n",
    "    - Make a histogram and try to guess the mean, median and standard deviation.\n",
    "    - Check your guesses by running the appropiate python commands"
   ]
  },
  {
   "cell_type": "code",
   "execution_count": null,
   "metadata": {},
   "outputs": [],
   "source": [
    "# Answers here\n",
    "\n",
    "\n",
    "########### ANSWERS\n",
    "\n",
    "# Histogram\n",
    "plt.pyplot.hist(maths_data['x'])\n",
    "plt.pyplot.show()\n",
    "\n",
    "# Mean, Median, Mode\n",
    "print(\"Mean: \", np.mean(maths_data['x']))\n",
    "print(\"Median: \", np.median(maths_data['x']))\n",
    "print(\"Standard Deviation: \", np.std(maths_data['x']))"
   ]
  },
  {
   "cell_type": "markdown",
   "metadata": {},
   "source": [
    "## Practice 3: Babyboom"
   ]
  },
  {
   "cell_type": "markdown",
   "metadata": {},
   "source": [
    "The dataset **'babyboom'** contains data on the births of 44 children in a one-day period at a Brisbane, Australia, hospital."
   ]
  },
  {
   "cell_type": "code",
   "execution_count": null,
   "metadata": {},
   "outputs": [],
   "source": [
    "babybooming = pd.read_csv('data/babyboom.csv', index_col=0)\n",
    "babybooming.head()"
   ]
  },
  {
   "cell_type": "markdown",
   "metadata": {},
   "source": [
    "Your task is as follows:\n",
    "\n",
    "    - Make a histogram of the wt (Weight) variable.\n",
    "    - Is the data symmetric or skewed?"
   ]
  },
  {
   "cell_type": "code",
   "execution_count": null,
   "metadata": {},
   "outputs": [],
   "source": [
    "# Answers here\n",
    "\n",
    "\n",
    "########### ANSWERS\n",
    "\n",
    "# Histogram\n",
    "plt.pyplot.hist(babybooming['wt'], density=True)\n",
    "plt.pyplot.show()"
   ]
  },
  {
   "cell_type": "markdown",
   "metadata": {},
   "source": [
    "## Practice 4: Executive Pay"
   ]
  },
  {
   "cell_type": "markdown",
   "metadata": {},
   "source": [
    "Sometimes a dataset is so skewed that it can help if we transform the data prior to looking at it. A common transformation for long-tailed data is to take the logarithm of the data. The **'exec.pay'** data is highly skewed."
   ]
  },
  {
   "cell_type": "code",
   "execution_count": null,
   "metadata": {},
   "outputs": [],
   "source": [
    "exec_pay = pd.read_csv('data/execpay.csv', index_col=0)\n",
    "exec_pay.head()"
   ]
  },
  {
   "cell_type": "markdown",
   "metadata": {},
   "source": [
    "Your task is as follows:\n",
    "\n",
    "    - Generate Histograms before making any adjustments and after taking a logarithmic transform.\n",
    "    - Which is better for showing the data and why?\n",
    "    - Find the median and mean for the transformed data\n",
    "    - How does it correspond to the untransformed mean and median?"
   ]
  },
  {
   "cell_type": "code",
   "execution_count": null,
   "metadata": {},
   "outputs": [],
   "source": [
    "# Answers here\n",
    "\n",
    "\n",
    "########### ANSWERS\n",
    "\n",
    "# Histogram/s\n",
    "plt.pyplot.hist(exec_pay['x'])\n",
    "plt.pyplot.title(\"Original Data\")\n",
    "plt.pyplot.show()\n",
    "\n",
    "plt.pyplot.hist(np.log10(exec_pay['x']+1))\n",
    "plt.pyplot.title(\"Log transformation\")\n",
    "plt.pyplot.show()\n",
    "\n",
    "\n",
    "# Median & Mean - Transformed\n",
    "print(\"Transformed Mean: \", np.mean(np.log10(exec_pay['x']+1)))\n",
    "print(\"Transformed Median: \", np.median(np.log10(exec_pay['x']+1)))\n",
    "\n",
    "# Median & Mean - Normal\n",
    "print(\"Regular Mean: \", np.mean(exec_pay['x']))\n",
    "print(\"Regular Median: \", np.median(exec_pay['x']))"
   ]
  }
 ],
 "metadata": {
  "kernelspec": {
   "display_name": "Python 3",
   "language": "python",
   "name": "python3"
  },
  "language_info": {
   "codemirror_mode": {
    "name": "ipython",
    "version": 3
   },
   "file_extension": ".py",
   "mimetype": "text/x-python",
   "name": "python",
   "nbconvert_exporter": "python",
   "pygments_lexer": "ipython3",
   "version": "3.7.2"
  }
 },
 "nbformat": 4,
 "nbformat_minor": 2
}
