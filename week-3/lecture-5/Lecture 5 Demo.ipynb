{
 "cells": [
  {
   "cell_type": "markdown",
   "metadata": {},
   "source": [
    " <h1 align='center'> COMP2420/COMP6420 - Introduction to Data Management, Analysis and Security</h1>\n",
    "\n",
    "<h2 align='center'>Lecture 5 - Demo</h2>"
   ]
  },
  {
   "cell_type": "code",
   "execution_count": null,
   "metadata": {},
   "outputs": [],
   "source": [
    "# Author in R - Jin \n",
    "# Date - 10 Mar 2019\n",
    "# Python Conversion - Alex, Harry"
   ]
  },
  {
   "cell_type": "code",
   "execution_count": null,
   "metadata": {},
   "outputs": [],
   "source": [
    "import pandas as pd\n",
    "import numpy as np\n",
    "import statistics as stats\n",
    "from scipy import stats as spystats\n",
    "import matplotlib as plt\n",
    "%matplotlib inline"
   ]
  },
  {
   "cell_type": "markdown",
   "metadata": {},
   "source": [
    "## Categorical data\n",
    "\n",
    "### Web browser preferences"
   ]
  },
  {
   "cell_type": "code",
   "execution_count": null,
   "metadata": {},
   "outputs": [],
   "source": [
    "webBrowser = [3,4,1,1,3,4,3,3,1,3,2,1,2,1,2,3,2,3,1,1,1,1,4,3,1]\n",
    "df_webBrowsers = pd.DataFrame(webBrowser)\n",
    "df_webBrowsers.head()"
   ]
  },
  {
   "cell_type": "code",
   "execution_count": null,
   "metadata": {},
   "outputs": [],
   "source": [
    "fig = pd.value_counts(df_webBrowsers[0]).plot.bar()\n",
    "fig.set_xlabel(\"Web Browsers\")\n",
    "fig.set_ylabel(\"Frequency\")"
   ]
  },
  {
   "cell_type": "code",
   "execution_count": null,
   "metadata": {},
   "outputs": [],
   "source": [
    "webPreferences = {\"IE\": 45, \"Firefox\": 44, \"Chrome\": 46}\n",
    "plt.pyplot.bar(range(len(webPreferences)), list(webPreferences.values()), align='center')\n",
    "plt.pyplot.xticks(range(len(webPreferences)), list(webPreferences.keys()))\n",
    "plt.pyplot.show()"
   ]
  },
  {
   "cell_type": "code",
   "execution_count": null,
   "metadata": {},
   "outputs": [],
   "source": [
    "sample_Data = [18,19,18,20,18,18,20,21,37,18]\n",
    "print(\"Sample Data: \", sample_Data)\n",
    "print(\"Mean (Manually): \", (sum(sample_Data)/len(sample_Data)))\n",
    "print(\"Mean (Statistics module): \", stats.mean(sample_Data))\n",
    "print(\"Mean (NumPy module): \", np.mean(sample_Data))\n",
    "print(\"Median (Statistics module): \", stats.median(sample_Data))\n",
    "print(\"Median (NumPy module): \", np.median(sample_Data))\n",
    "print(\"Mode (Statistics module): \", stats.mode(sample_Data))\n",
    "print(\"Mode (SciPy module): \", spystats.mode(sample_Data))"
   ]
  },
  {
   "cell_type": "markdown",
   "metadata": {},
   "source": [
    "### 5 Number Summary"
   ]
  },
  {
   "cell_type": "code",
   "execution_count": null,
   "metadata": {},
   "outputs": [],
   "source": [
    "sample_Five = [10,12,15,17,21]\n",
    "print(\"Length:\", len(sample_Five))\n",
    "print(\"Median (Statistics Module): \", stats.median(sample_Five))\n",
    "print(\"Median (NumPy Module): \", np.median(sample_Five))\n",
    "print(\"Quantile [25%] (NumPy Module): \", np.quantile(sample_Five, 0.25))\n",
    "print(\"Quantile [25%,50%,75%] (NumPy Module): \", np.quantile(sample_Five, [0.25,0.5,0.75]))"
   ]
  },
  {
   "cell_type": "markdown",
   "metadata": {},
   "source": [
    "### Graphical Summaries of Data"
   ]
  },
  {
   "cell_type": "code",
   "execution_count": null,
   "metadata": {},
   "outputs": [],
   "source": [
    "# Graphical Summaries of Data\n",
    "faithful = pd.read_csv('data/oldfaithful.csv')\n",
    "faithful.info()\n",
    "faithful.head()"
   ]
  },
  {
   "cell_type": "markdown",
   "metadata": {},
   "source": [
    "### Histogram"
   ]
  },
  {
   "cell_type": "code",
   "execution_count": null,
   "metadata": {},
   "outputs": [],
   "source": [
    "# Classic Histogram\n",
    "plt.pyplot.hist(faithful['TimeWaiting'])\n",
    "plt.pyplot.xlabel(\"Recorded\")\n",
    "plt.pyplot.ylabel(\"Waited Time (Seconds)\")\n",
    "plt.pyplot.title(\"Original Data\")\n",
    "plt.pyplot.show()"
   ]
  },
  {
   "cell_type": "code",
   "execution_count": null,
   "metadata": {},
   "outputs": [],
   "source": [
    "# 5 Break Histogram\n",
    "plt.pyplot.hist(faithful['TimeWaiting'], bins=5)\n",
    "plt.pyplot.xlabel(\"Recorded\")\n",
    "plt.pyplot.ylabel(\"Waited Time (Seconds)\")\n",
    "plt.pyplot.title(\"5 Break Graph\")\n",
    "plt.pyplot.show()"
   ]
  },
  {
   "cell_type": "code",
   "execution_count": null,
   "metadata": {},
   "outputs": [],
   "source": [
    "# Normalised Histogram\n",
    "plt.pyplot.hist(faithful['TimeWaiting'], density=True)\n",
    "plt.pyplot.xlabel(\"Recorded\")\n",
    "plt.pyplot.ylabel(\"Waited Time (Comparitive)\")\n",
    "plt.pyplot.title(\"Normalised\")\n",
    "plt.pyplot.show()"
   ]
  },
  {
   "cell_type": "markdown",
   "metadata": {},
   "source": [
    "### Boxplot"
   ]
  },
  {
   "cell_type": "code",
   "execution_count": null,
   "metadata": {},
   "outputs": [],
   "source": [
    "# Boxplot - Original\n",
    "plt.pyplot.boxplot(faithful['TimeWaiting'])\n",
    "plt.pyplot.title(\"Boxplot of Time Waited - Original\")\n",
    "plt.pyplot.show()"
   ]
  },
  {
   "cell_type": "code",
   "execution_count": null,
   "metadata": {},
   "outputs": [],
   "source": [
    "# Boxplot - Notch\n",
    "plt.pyplot.boxplot(faithful['TimeWaiting'], notch=True)\n",
    "plt.pyplot.title(\"Boxplot of Time Waited - Notched\")\n",
    "plt.pyplot.show()"
   ]
  },
  {
   "cell_type": "code",
   "execution_count": null,
   "metadata": {},
   "outputs": [],
   "source": [
    "# Boxplot - Horizontal\n",
    "plt.pyplot.boxplot(faithful['TimeWaiting'], vert=False)\n",
    "plt.pyplot.title(\"Boxplot of Time Waited - Horizontal\")\n",
    "plt.pyplot.show()"
   ]
  },
  {
   "cell_type": "markdown",
   "metadata": {},
   "source": [
    "### Bivariate Data"
   ]
  },
  {
   "cell_type": "code",
   "execution_count": null,
   "metadata": {},
   "outputs": [],
   "source": [
    "grades_data = pd.read_csv('data/grades.csv', index_col=0)\n",
    "grades_data.head()"
   ]
  },
  {
   "cell_type": "code",
   "execution_count": null,
   "metadata": {},
   "outputs": [],
   "source": [
    "table = grades_data.groupby(['prev', 'grade']).size()\n",
    "table.plot.bar()\n",
    "# Not very pretty !"
   ]
  }
 ],
 "metadata": {
  "kernelspec": {
   "display_name": "Python 3",
   "language": "python",
   "name": "python3"
  },
  "language_info": {
   "codemirror_mode": {
    "name": "ipython",
    "version": 3
   },
   "file_extension": ".py",
   "mimetype": "text/x-python",
   "name": "python",
   "nbconvert_exporter": "python",
   "pygments_lexer": "ipython3",
   "version": "3.7.2"
  }
 },
 "nbformat": 4,
 "nbformat_minor": 2
}
